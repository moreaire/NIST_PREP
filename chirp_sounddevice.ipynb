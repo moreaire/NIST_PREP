{
 "cells": [
  {
   "cell_type": "markdown",
   "metadata": {},
   "source": [
    "# Chirps #\n",
    "\n",
    "Create orthogonal chirps, run them through to the device, receive information from left and right speaker, and create correlations between original chirp and output data to determine distance."
   ]
  },
  {
   "cell_type": "code",
   "execution_count": 1,
   "metadata": {},
   "outputs": [],
   "source": [
    "import serial\n",
    "import matplotlib.pyplot as plt\n",
    "import numpy as np\n",
    "from scipy import signal\n",
    "from numpy.fft import fft\n",
    "import sounddevice as sd\n",
    "import time"
   ]
  },
  {
   "cell_type": "markdown",
   "metadata": {},
   "source": [
    "### Variable Definitions ###"
   ]
  },
  {
   "cell_type": "code",
   "execution_count": 2,
   "metadata": {},
   "outputs": [],
   "source": [
    "#Definitions\n",
    "sampling_f = 96e3 #kHz, min sampling frequency should be 0.7MHz\n",
    "T_c = 10e-3 #chirp duration, s\n",
    "#t = np.arange(0,T_c,1/sampling_f) #time, between 0 and T_c with steps of whatever 100khz (sample at 100kHz) is\n",
    "f_s = 18e3 #starting frequency, Hz\n",
    "f_h = 20e3 #ending frequency, Hz\n",
    "phi = 0 #initial phase\n",
    "B = f_h - f_s #bandwidth\n",
    "mu = B / T_c #chirp rate\n",
    "BUFFER_SIZE = 4096 #buffer size\n",
    "samplef = 19e6 / 32 / 6\n",
    "t = np.linspace(0,BUFFER_SIZE/samplef,BUFFER_SIZE)\n",
    "\n",
    "#For calculating distance\n",
    "speed = 343 #m/s\n",
    "delay = 0.010552083333333333 #Computer delay found using sd.query_devices(kind='output')\n"
   ]
  },
  {
   "cell_type": "markdown",
   "metadata": {},
   "source": [
    "### Function Definitions ###"
   ]
  },
  {
   "cell_type": "code",
   "execution_count": 3,
   "metadata": {},
   "outputs": [],
   "source": [
    "#FIX THIS FUNCTION!!\n",
    "def zero_pad(S_n,M):\n",
    "    zeros = np.zeros(len(S_n))\n",
    "    S_n1 = np.vstack((S_n,zeros, zeros)).T.flatten()\n",
    "    S_n2 = np.vstack((zeros,S_n,zeros)).T.flatten()\n",
    "    S_n3 = np.vstack((zeros,zeros,S_n)).T.flatten()\n",
    "    #plt.plot(S_n1)\n",
    "    #plt.plot(S_n2)\n",
    "    #plt.plot(S_n3)\n",
    "    #plt.xlim(550, 600)\n",
    "    return(S_n1,S_n2,S_n3)"
   ]
  },
  {
   "cell_type": "code",
   "execution_count": 4,
   "metadata": {},
   "outputs": [],
   "source": [
    "#Play Audio\n",
    "sd.default.samplerate = sampling_f\n",
    "\n",
    "def play_audio(data,fs , dev=None):\n",
    "    sd.play(data)"
   ]
  },
  {
   "cell_type": "code",
   "execution_count": 5,
   "metadata": {},
   "outputs": [],
   "source": [
    "#Function to plot chirps\n",
    "def plotsound(x,y,a):\n",
    "    plt.plot(x,y)\n",
    "    plt.plot(x,a)\n",
    "    plt.title(\"Linear Chirp\")\n",
    "    plt.xlabel(\"Time\")\n",
    "    #plt.ylabel(\"Amplitude\") idk what label should be here"
   ]
  },
  {
   "cell_type": "code",
   "execution_count": 6,
   "metadata": {},
   "outputs": [],
   "source": [
    "# Main function to initiate chirp signal, process it, and plot it\n",
    "def audioprocessing(chirp):\n",
    "    #Definition of arrays\n",
    "    left = np.zeros(BUFFER_SIZE)\n",
    "    right = np.zeros(BUFFER_SIZE)\n",
    "    sample = np.arange(0,BUFFER_SIZE,1)\n",
    "    time = np.linspace(0,BUFFER_SIZE/samplef,BUFFER_SIZE)\n",
    "\n",
    "    #print(\"time2\", time2.shape)\n",
    "    #time = np.linspace(0,sampling_f / 42 / 6,BUFFER_SIZE)\n",
    "    #time2 = np.linspace(0, 19e6 / 32 / 6 ,BUFFER_SIZE)\n",
    "\n",
    "    # Write character to SiLabs to begin recording\n",
    "    sound = True\n",
    "    #time.sleep(delay)\n",
    "    s.write(b'r')\n",
    "\n",
    "    # Play chirp\n",
    "    play_audio(np.imag(chirp),sampling_f) #Initial chirp\n",
    "    #play_audio(np.imag(timesz),sampling_f) #Zero padded chirp\n",
    "    \n",
    "    while sound:\n",
    "        \n",
    "        read = s.readline()\n",
    "        #print(read)\n",
    "\n",
    "        try:\n",
    "            read = read.decode().strip()\n",
    "        except (UnicodeDecodeError, AttributeError):\n",
    "            print(\"Error detected\")\n",
    "            pass\n",
    "\n",
    "        #Store valeus into left array\n",
    "        if read == \"left\":\n",
    "            #print(\"Left array:\\n\")\n",
    "            for i in range(0,BUFFER_SIZE-1):\n",
    "                lineL = s.readline().decode().strip()\n",
    "                if lineL != \"right\":\n",
    "                    left[i] = lineL\n",
    "\n",
    "        #Store values into right array            \n",
    "        elif read == \"right\":\n",
    "            #print(\"Right array:\\n\")\n",
    "            for i in range(0,BUFFER_SIZE-1):\n",
    "                lineR = s.readline().decode().strip()\n",
    "                if lineR != \"done\":\n",
    "                    right[i] = lineR\n",
    "\n",
    "        #End sound recording and plot \n",
    "        elif read == \"done\":\n",
    "            sound = False\n",
    "            plotsound(time,left,right)\n",
    "            \n",
    "    return(left,right)"
   ]
  },
  {
   "cell_type": "code",
   "execution_count": 7,
   "metadata": {},
   "outputs": [],
   "source": [
    "# Determines the time correlation between two functions\n",
    "def t_correlation(s1,s2):\n",
    "    FS_n1 = fft(s1)\n",
    "    FS_n2 = fft(s2)\n",
    "    \n",
    "    TiS_n1 = np.fft.ifft(FS_n1)\n",
    "    TiS_n2 = np.fft.ifft(FS_n2)\n",
    "    \n",
    "    Tcorr = np.correlate(TiS_n1,TiS_n2,\"full\")\n",
    "    \n",
    "    n = np.linspace(0, BUFFER_SIZE/samplef,len(Tcorr))\n",
    "    \n",
    "    fig, ax = plt.subplots()\n",
    "    ax.plot(n,Tcorr)\n",
    "    plt.title(\"Time Correlation\")\n",
    "    plt.xlabel(\"Time (s)\")\n",
    "    \n",
    "    return(Tcorr,n)"
   ]
  },
  {
   "cell_type": "code",
   "execution_count": 8,
   "metadata": {},
   "outputs": [],
   "source": [
    "#CALCULATING DISTANCE#\n",
    "def distance(timecorrelation):\n",
    "    t_est = n[np.argmax(timecorrelation)] - delay\n",
    "    print(\"Estimated time:\",t_est,\"seconds\")\n",
    "\n",
    "    dist_est = t_est * speed\n",
    "    print(\"Estimated distance:\",dist_est,\"meters\")"
   ]
  },
  {
   "cell_type": "markdown",
   "metadata": {},
   "source": [
    "## Start of main function ##"
   ]
  },
  {
   "cell_type": "code",
   "execution_count": 9,
   "metadata": {},
   "outputs": [],
   "source": [
    "#Initial Chirp Function Definition\n",
    "s_t = np.exp(2j * np.pi * (f_s * t + 1/2 * mu * np.square(t)) + phi)\n",
    "\n",
    "#Plotting chirp\n",
    "#plt.plot(t,s_t)\n",
    "#plt.xlim(0,0.01)\n",
    "#plt.ylim(-1,1)\n",
    "\n",
    "#Create zero padded chirp to send in\n",
    "sn = fft(s_t)\n",
    "sz,extra1,extra2 = zero_pad(sn,2)\n",
    "timesz = np.fft.ifft(sz)\n",
    "time2z = np.fft.ifft(extra1)\n",
    "time3z = np.fft.ifft(extra2)"
   ]
  },
  {
   "cell_type": "markdown",
   "metadata": {},
   "source": [
    "### Print Serial Code ###\n",
    "\n",
    "Initializes recording to play a chirp. A chirp plays, and data is processed and graphed to show a plot of the chirp."
   ]
  },
  {
   "cell_type": "code",
   "execution_count": 10,
   "metadata": {},
   "outputs": [
    {
     "name": "stdout",
     "output_type": "stream",
     "text": [
      "Connected to serial port\n"
     ]
    },
    {
     "data": {
      "image/png": "[encoded data removed]",
      "text/plain": [
       "<Figure size 432x288 with 1 Axes>"
      ]
     },
     "metadata": {
      "needs_background": "light"
     },
     "output_type": "display_data"
    }
   ],
   "source": [
    "#Connect to serial port\n",
    "s = serial.Serial('/dev/tty.usbmodem0004401714771')\n",
    "print(\"Connected to serial port\")\n",
    "\n",
    "#MOST IMPORTANT LINE OF CODE!!!\n",
    "chirp1 = s_t #Sets what you want chirp to be\n",
    "#chirp2 = time2z\n",
    "#chirp3 = time3z\n",
    "#^^^^^^^^^^^^^^^^^^^^^^^^^^^^^^^^^^^^^^^^^^^\n",
    "\n",
    "left1, right1 = audioprocessing(chirp1) #Runs function\n",
    "#left2, right2 = audioprocessing(chirp2)\n",
    "#left3, right3 = audioprocessing(chirp3)\n",
    "#fig, (ax1,ax2,ax3) = plt.subplots(3,1)\n",
    "#ax1.plot(t,right1)\n",
    "#ax1.plot(t,left1)\n",
    "#ax2.plot(t,right2)\n",
    "#ax2.plot(t,left2)\n",
    "#ax3.plot(t,right3)\n",
    "#ax3.plot(t,left3)\n",
    "#print(left,right)"
   ]
  },
  {
   "cell_type": "markdown",
   "metadata": {},
   "source": [
    "### Correlation ###"
   ]
  },
  {
   "cell_type": "code",
   "execution_count": 11,
   "metadata": {},
   "outputs": [],
   "source": [
    "#Close serial port\n",
    "s.flushInput()\n",
    "s.flushOutput()\n",
    "s.close()"
   ]
  },
  {
   "cell_type": "code",
   "execution_count": 13,
   "metadata": {},
   "outputs": [
    {
     "name": "stderr",
     "output_type": "stream",
     "text": [
      "/opt/anaconda3/lib/python3.7/site-packages/numpy/core/_asarray.py:85: ComplexWarning: Casting complex values to real discards the imaginary part\n",
      "  return array(a, dtype, copy=False, order=order)\n",
      "/opt/anaconda3/lib/python3.7/site-packages/numpy/core/_asarray.py:85: ComplexWarning: Casting complex values to real discards the imaginary part\n",
      "  return array(a, dtype, copy=False, order=order)\n"
     ]
    },
    {
     "data": {
      "image/png": "[encoded data removed]",
      "text/plain": [
       "<Figure size 432x288 with 1 Axes>"
      ]
     },
     "metadata": {
      "needs_background": "light"
     },
     "output_type": "display_data"
    },
    {
     "data": {
      "image/png": "[encoded data removed]",
      "text/plain": [
       "<Figure size 432x288 with 1 Axes>"
      ]
     },
     "metadata": {
      "needs_background": "light"
     },
     "output_type": "display_data"
    }
   ],
   "source": [
    "tcorrL = t_correlation(left1,sz)\n",
    "tcorrR = t_correlation(right1,sz)"
   ]
  },
  {
   "cell_type": "code",
   "execution_count": null,
   "metadata": {},
   "outputs": [],
   "source": [
    "#Calculate correlation between two values\n",
    "\n",
    "#tcorr = t_correlation(left,sz)\n",
    "tacorrorleft1,n = t_correlation(left1,chirp1)\n",
    "tacorrorright1,n = t_correlation(right1,chirp1)\n",
    "\n",
    "tacorrorleft2,n = t_correlation(left2,chirp2)\n",
    "tacorrorright2,n = t_correlation(right2,chirp2)\n",
    "\n",
    "tacorrorleft3,n = t_correlation(left3,chirp3)\n",
    "tacorrorright3,n = t_correlation(right3,chirp3)\n",
    "\n",
    "tcorrorleft12,n = t_correlation(left1,left2)\n",
    "#tcorrorright12,n = t_correlation(right1,right2)\n",
    "\n",
    "tcorrorleft13,n = t_correlation(left1,left3)\n",
    "#tcorrorright13,n = t_correlation(right1,right3)\n",
    "\n",
    "tcorrorleft23,n = t_correlation(left2,left3)\n",
    "#tcorrorright23,n = t_correlation(right2,right3)\n",
    "\n",
    "#Average between correlations\n",
    "#avg = (tcorrorleft+tcorrorright) / 2\n",
    "#plt.plot(n,avg, alpha = 0.5)"
   ]
  },
  {
   "cell_type": "code",
   "execution_count": null,
   "metadata": {},
   "outputs": [],
   "source": [
    "#Prints distance and estimated time\n",
    "distance(avg)"
   ]
  },
  {
   "cell_type": "markdown",
   "metadata": {},
   "source": [
    "### Below is just trial and error code which will be deleted soon ###"
   ]
  },
  {
   "cell_type": "code",
   "execution_count": null,
   "metadata": {},
   "outputs": [],
   "source": [
    "#FFT to frequency domain\n",
    "S_nL = fft(left)\n",
    "S_nR = fft(right)\n",
    "sn = fft(s_t) #initial chirp\n",
    "\n",
    "#IFFT to time domain\n",
    "time_iS_nL = np.fft.ifft(S_nL)\n",
    "time_iS_nR = np.fft.ifft(S_nR)\n",
    "tisn = np.fft.ifft(sn) #inital chirp\n",
    "\n",
    "#Correlations between left/right and the initial chirp\n",
    "TIME_correlationL = np.correlate(time_iS_nL,tisn,\"full\")\n",
    "TIME_correlationR = np.correlate(time_iS_nR,tisn,\"full\")\n",
    "\n",
    "#New time array for graphing... need to look at because units are wrong\n",
    "n = np.linspace(0, BUFFER_SIZE/samplef,len(TIME_correlationL))\n",
    "\n",
    "#Average between correlations\n",
    "avg = (TIME_correlationL+TIME_correlationR) / 2\n",
    "#Plotting each correlation\n",
    "plt.plot(n,TIME_correlationL, color=\"red\")\n",
    "plt.plot(n,TIME_correlationR, color=\"blue\")\n",
    "plt.plot(n,avg, color =\"orange\", alpha = 0.5)\n",
    "plt.title(\"Correlation of Left and Right Signals with Initial Signal\")\n",
    "plt.xlabel(\"Time (s)\")"
   ]
  },
  {
   "cell_type": "code",
   "execution_count": null,
   "metadata": {},
   "outputs": [],
   "source": [
    "#Zero Padding Correlations\n",
    "S_nLZ,S_nL2,S_nL3 = zero_pad(S_nL,3)\n",
    "S_nZ,S_n2,S_n3 = zero_pad(sn,3)\n",
    "\n",
    "time_iLZ = np.fft.ifft(S_nLZ)\n",
    "time_iZ = np.fft.ifft(S_nZ)\n",
    "\n",
    "TIME_correlationZ = np.correlate(time_iLZ,time_iZ,\"full\")\n",
    "nZ = np.linspace(0, BUFFER_SIZE/samplef,len(TIME_correlationZ))\n",
    "plt.plot(nZ,TIME_correlationZ, color=\"green\")\n",
    "plt.title(\"Correlation of Left Signal With Initial: Zero Padded (2 zeroes)\")\n",
    "plt.xlabel(\"time (seconds)\")\n"
   ]
  },
  {
   "cell_type": "code",
   "execution_count": null,
   "metadata": {},
   "outputs": [],
   "source": [
    "#send zero padded orthogonal chirps \n",
    "#change frequency range to increase distance of collectin chirps"
   ]
  }
 ],
 "metadata": {
  "kernelspec": {
   "display_name": "Python 3",
   "language": "python",
   "name": "python3"
  },
  "language_info": {
   "codemirror_mode": {
    "name": "ipython",
    "version": 3
   },
   "file_extension": ".py",
   "mimetype": "text/x-python",
   "name": "python",
   "nbconvert_exporter": "python",
   "pygments_lexer": "ipython3",
   "version": "3.7.6"
  }
 },
 "nbformat": 4,
 "nbformat_minor": 4
}
